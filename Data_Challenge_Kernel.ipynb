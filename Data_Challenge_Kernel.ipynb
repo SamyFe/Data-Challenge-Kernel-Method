{
  "cells": [
    {
      "cell_type": "code",
      "execution_count": 1,
      "metadata": {
        "colab": {
          "base_uri": "https://localhost:8080/"
        },
        "id": "WFa4v9ZnadOW",
        "outputId": "1eefbb1b-b64b-4227-b0af-fa4d2cc50505"
      },
      "outputs": [
        {
          "output_type": "stream",
          "name": "stdout",
          "text": [
            "Mounted at /content/drive/\n"
          ]
        }
      ],
      "source": [
        "import os\n",
        "from google.colab import drive\n",
        "drive.mount('/content/drive/', force_remount=True)\n",
        "os.chdir('/content/drive/My Drive/Kernel Methods/')"
      ]
    },
    {
      "cell_type": "code",
      "execution_count": 2,
      "metadata": {
        "id": "H4I59uo5WH_y"
      },
      "outputs": [],
      "source": [
        "import numpy as np\n",
        "import pandas as pd\n",
        "from time import time\n",
        "import cvxopt\n",
        "import sys"
      ]
    },
    {
      "cell_type": "code",
      "execution_count": 3,
      "metadata": {
        "id": "NC4g6nfMmtnP"
      },
      "outputs": [],
      "source": [
        "class Helper:\n",
        "    \n",
        "    @staticmethod\n",
        "    def log_process(title, cursor, finish_cursor, start_time = None):\n",
        "        percentage = float(cursor + 1)/finish_cursor\n",
        "        now_time = time()\n",
        "        time_to_finish = ((now_time - start_time)/percentage) - (now_time - start_time)\n",
        "        mn, sc = int(time_to_finish//60), int((time_to_finish/60 - time_to_finish//60)*60)\n",
        "        if start_time:\n",
        "            sys.stdout.write(\"\\r%s - %.2f%% ----- Temps restant estimé: %d min %d sec -----\" %(title, 100*percentage, mn, sc))\n",
        "            sys.stdout.flush()\n",
        "        else:\n",
        "            sys.stdout.write(\"\\r%s - \\r%.2f%%\" %(title, 100*percentage))\n",
        "            sys.stdout.flush()"
      ]
    },
    {
      "cell_type": "code",
      "execution_count": 4,
      "metadata": {
        "id": "PuiI_Vk8aJ-4"
      },
      "outputs": [],
      "source": [
        "class SIFT:\n",
        "\n",
        "    ###################\n",
        "    #    CONSTUCTOR   #\n",
        "    ###################\n",
        "\n",
        "    def __init__(self, gaussian_thres = 1.0, gaussian_sigma = 0.8, sift_thres = 0.2, \\\n",
        "                 num_angles = 12, num_bins = 5, alpha = 9.0):\n",
        "        self.num_angles = num_angles\n",
        "        self.num_bins = num_bins\n",
        "        self.alpha = alpha\n",
        "        self.angle_list = np.array(range(num_angles))*2.0*np.pi/num_angles\n",
        "        self.gaussian_thres = gaussian_thres\n",
        "        self.gaussian_sigma = gaussian_sigma\n",
        "        self.sift_thres = sift_thres\n",
        "        self.weights = self._get_weights(num_bins)\n",
        "\n",
        "    ###################\n",
        "    # PUBLIC  METHODS #\n",
        "    ###################\n",
        "    \n",
        "    def get_features(self, data):\n",
        "        out = []\n",
        "        start = time()\n",
        "        finish = len(data)\n",
        "        for idx, dt in enumerate(data):\n",
        "            Helper.log_process('SIFT', idx, finish_cursor=finish, start_time = start)\n",
        "            feature = self._calculate_sift_feature(np.mean(np.double(dt), axis=2))\n",
        "            feature = self._normalize_sift(feature)\n",
        "            out.append(feature)\n",
        "        return np.array(out)\n",
        "\n",
        "    \n",
        "    ###################\n",
        "    # PRIVATE METHODS #\n",
        "    ###################\n",
        "\n",
        "    def _get_weights(self, num_bins):\n",
        "        size_unit = np.array(range(32))\n",
        "        sph, spw = np.meshgrid(size_unit, size_unit)\n",
        "        sph.resize(sph.size)\n",
        "        spw.resize(spw.size)\n",
        "        bincenter = np.array(range(1, num_bins*2, 2)) / 2.0 / num_bins * 32 - 0.5\n",
        "        bincenter_h, bincenter_w = np.meshgrid(bincenter, bincenter)\n",
        "        bincenter_h.resize((bincenter_h.size, 1))\n",
        "        bincenter_w.resize((bincenter_w.size, 1))\n",
        "        dist_ph = abs(sph - bincenter_h)\n",
        "        dist_pw = abs(spw - bincenter_w)\n",
        "        weights_h = dist_ph / (32 / np.double(num_bins))\n",
        "        weights_w = dist_pw / (32 / np.double(num_bins))\n",
        "        weights_h = (1-weights_h) * (weights_h <= 1)\n",
        "        weights_w = (1-weights_w) * (weights_w <= 1)\n",
        "        return weights_h * weights_w\n",
        "\n",
        "    def _calculate_sift_feature(self, image):\n",
        "        if image.ndim == 3:\n",
        "            image = np.mean(image, axis=2)\n",
        "        H, W = image.shape\n",
        "        features = np.zeros((1, self.num_bins * self.num_bins * self.num_angles))\n",
        "        gaussian_height, gaussian_width = self._get_gauss_filter(self.gaussian_sigma)\n",
        "        IH = self._convolution2D(image, gaussian_height)\n",
        "        IW = self._convolution2D(image, gaussian_width)\n",
        "        Imag = np.sqrt(IH**2 + IW**2)\n",
        "        Itheta = np.arctan2(IH,IW)\n",
        "        Iorient = np.zeros((self.num_angles, H, W))\n",
        "        for i in range(self.num_angles):\n",
        "            Iorient[i] = Imag * np.maximum(np.cos(Itheta - self.angle_list[i])**self.alpha, 0)\n",
        "        feature = np.zeros((self.num_angles, self.num_bins**2))\n",
        "        for j in range(self.num_angles):\n",
        "             feature[j] = np.dot(self.weights,\\\n",
        "                     Iorient[j,:,:].flatten())\n",
        "        feature = feature.flatten()\n",
        "        return feature\n",
        "\n",
        "    def _normalize_sift(self, feature):\n",
        "        siftlen = np.sqrt(np.sum(feature**2))\n",
        "        test = (siftlen >= self.gaussian_thres)\n",
        "        if siftlen < self.gaussian_thres:\n",
        "          siftlen = self.gaussian_thres\n",
        "        feature /= siftlen\n",
        "        feature[feature>self.sift_thres] = self.sift_thres\n",
        "        if test:\n",
        "            feature /= np.sqrt(np.sum(feature**2))\n",
        "        return feature\n",
        "\n",
        "\n",
        "    def _get_gauss_filter(self, sigma):\n",
        "        gaussian_filter_amp = np.int(2*np.ceil(sigma))\n",
        "        gaussian_filter = np.array(range(-gaussian_filter_amp, gaussian_filter_amp+1))**2\n",
        "        gaussian_filter = gaussian_filter[:, np.newaxis] + gaussian_filter\n",
        "        gaussian_filter = np.exp(- gaussian_filter / (2.0 * sigma**2))\n",
        "        gaussian_filter /= np.sum(gaussian_filter)\n",
        "        gaussian_height, gaussian_width = np.gradient(gaussian_filter)\n",
        "        gaussian_height *= 2.0/np.sum(np.abs(gaussian_height))\n",
        "        gaussian_width  *= 2.0/np.sum(np.abs(gaussian_width))\n",
        "        return gaussian_height, gaussian_width\n",
        "    \n",
        "    def _convolution2D(self, image, kernel):\n",
        "        imRows, imCols = image.shape\n",
        "        kRows, kCols = kernel.shape\n",
        "\n",
        "        y = np.zeros((imRows,imCols))\n",
        "\n",
        "        kcenterX = kCols//2\n",
        "        kcenterY = kRows//2\n",
        "\n",
        "        for i in range(imRows):\n",
        "            for j in range(imCols):\n",
        "                for m in range(kRows):\n",
        "                    mm = kRows - 1 - m\n",
        "                    for n in range(kCols):\n",
        "                        nn = kCols - 1 - n\n",
        "\n",
        "                        ii = i + (m - kcenterY)\n",
        "                        jj = j + (n - kcenterX)\n",
        "\n",
        "                        if ii >= 0 and ii < imRows and jj >= 0 and jj < imCols :\n",
        "                            y[i][j] += image[ii][jj] * kernel[mm][nn]\n",
        "\n",
        "        return y"
      ]
    },
    {
      "cell_type": "code",
      "execution_count": 5,
      "metadata": {
        "id": "z5fJq_4cm4Lm"
      },
      "outputs": [],
      "source": [
        "class Kernel:\n",
        "    \n",
        "    ########################\n",
        "    # Only static  methods #\n",
        "    ########################\n",
        "    \n",
        "    @staticmethod\n",
        "    def RBF(sigma):\n",
        "        def f(X1, X2):\n",
        "            squared_norm = np.expand_dims(np.sum(X1**2,axis=1),axis=1) + np.expand_dims(np.sum(X2**2,axis=1),axis=0)-2*np.einsum('ni,mi->nm',X1,X2)\n",
        "            return np.exp(-0.5*squared_norm/sigma**2)\n",
        "        return f\n",
        "\n",
        "    @staticmethod\n",
        "    def linear():\n",
        "        def f(X1, X2):\n",
        "            return X1.dot(X2.T)\n",
        "        return f\n",
        "\n",
        "    @staticmethod\n",
        "    def polynomial(degree):\n",
        "        def f(X1, X2):\n",
        "            return X1.dot(X2.T) ** degree\n",
        "        return f\n",
        "    \n",
        "    @staticmethod\n",
        "    def chi2(gamma):\n",
        "        def f(X1, X2):\n",
        "            out = np.zeros((X1.shape[0], X2.shape[0]))\n",
        "            n_X1 = X1.shape[0]\n",
        "            n_X2 = X2.shape[0]\n",
        "            n_features = X1.shape[1]\n",
        "\n",
        "            for i in range(n_X1):\n",
        "                for j in range(n_X2):\n",
        "                    p = 0\n",
        "                    for k in range(n_features):\n",
        "                        denominateur = (X1[i, k] - X2[j, k])\n",
        "                        nominateur = (X1[i, k] + X2[j, k])\n",
        "                        if nominateur != 0:\n",
        "                            p += denominateur * denominateur / nominateur\n",
        "                    out[i, j] = -p\n",
        "            tmp = gamma * out\n",
        "            return  np.exp(tmp, tmp)        \n",
        "        return f"
      ]
    },
    {
      "cell_type": "code",
      "execution_count": 6,
      "metadata": {
        "id": "zAd2hNrYm6Iz"
      },
      "outputs": [],
      "source": [
        "class SVC:\n",
        "    \n",
        "    ###############\n",
        "    # Constructor #\n",
        "    ###############\n",
        "    \n",
        "    def __init__(self, C=1.0, kernel='linear', gamma=.6, sigma=1., degree=2):\n",
        "        self.C = C\n",
        "        self.degree = degree\n",
        "        self.gamma = gamma\n",
        "        self.sigma = sigma\n",
        "        self.kernel = self._get_kernel(kernel, gamma=gamma, sigma=sigma, degree=degree)\n",
        "    \n",
        "    ##################\n",
        "    # Public methods #\n",
        "    ##################\n",
        "    \n",
        "    def fit(self, X, y):\n",
        "        self._X, self._y = X, y\n",
        "        \n",
        "        self.labels = np.unique(y)\n",
        "        self.n_labels = len(self.labels)\n",
        "        self._K = self.kernel(X, X)\n",
        "        \n",
        "        # OneVsAll\n",
        "        models = {}\n",
        "        start = time()\n",
        "        finish = len(self.labels)\n",
        "        for idx, label in enumerate(self.labels):\n",
        "\n",
        "            models[label] = {}\n",
        "            y_label = np.array([1. if e == label else -1. for e in y])\n",
        "            w, b, mu_support, idx_support = self._fit_binary(X, y_label)\n",
        "            \n",
        "            models[label]['y'] = y_label\n",
        "            models[label]['w'] = w\n",
        "            models[label]['b'] = b  \n",
        "            models[label]['mu_support'] = mu_support\n",
        "            models[label]['idx_support'] = idx_support\n",
        "            \n",
        "            Helper.log_process('SVC Fitting', idx, finish_cursor=finish, start_time = start)\n",
        "            \n",
        "        self.models = models\n",
        "    \n",
        "    def predict(self, X):\n",
        "        scores = [self._predict(X, self.models[label]['y'], self.models[label]['idx_support'], self.models[label]['mu_support'], self.models[label]['b']) for label in self.labels]\n",
        "        return self.labels[np.argmax(np.array(scores), axis=0)]\n",
        "\n",
        "    def next_layer(self, X):\n",
        "        scores = [self._predict(X, self.models[label]['y'], self.models[label]['idx_support'], self.models[label]['mu_support'], self.models[label]['b']) for label in self.labels]\n",
        "        return np.array(scores).T\n",
        "    \n",
        "    ###################\n",
        "    # Private methods #\n",
        "    ###################\n",
        "        \n",
        "    def _qp(self, H, e, A, b, C=np.inf, l=1e-8, verbose=True):\n",
        "        # Gram matrix\n",
        "        n = H.shape[0]\n",
        "        H = cvxopt.matrix(H)\n",
        "        A = cvxopt.matrix(A, (1, n))\n",
        "        e = cvxopt.matrix(-e)\n",
        "        b = cvxopt.matrix(0.0)\n",
        "        if C == np.inf:\n",
        "            G = cvxopt.matrix(np.diag(np.ones(n) * -1))\n",
        "            h = cvxopt.matrix(np.zeros(n))\n",
        "        else:\n",
        "            G = cvxopt.matrix(np.concatenate([np.diag(np.ones(n) * -1),\n",
        "                                             np.diag(np.ones(n))], axis=0))\n",
        "            h = cvxopt.matrix(np.concatenate([np.zeros(n), C * np.ones(n)]))\n",
        "\n",
        "        # Solve QP problem\n",
        "        cvxopt.solvers.options['show_progress'] = verbose\n",
        "        solution = cvxopt.solvers.qp(H, e, G, h, A, b)\n",
        "\n",
        "        # Lagrange multipliers\n",
        "        mu = np.ravel(solution['x'])\n",
        "        return mu\n",
        "    \n",
        "    def _predict(self, X, y_model, idx_support, mu_support, b):\n",
        "        X_support = self._X[idx_support]\n",
        "        G = self.kernel(X, X_support)\n",
        "        return G.dot(mu_support * y_model[idx_support]) + b\n",
        "    \n",
        "    def _fit_binary(self, X, y):\n",
        "        mu_support, idx_support = self._svm_solver_non_sep(self._K, y, self.C)\n",
        "        w = self._get_w(mu_support, idx_support, X, y)\n",
        "        b = self._compute_b(self._K, y, mu_support, idx_support)\n",
        "        return w, b, mu_support, idx_support\n",
        "    \n",
        "    def _svm_solver_non_sep(self, K, y, C):\n",
        "        n = y.shape[0]\n",
        "        y = y.reshape((n, 1))\n",
        "        H = np.dot(y, y.T)*K\n",
        "        e = np.ones(n)\n",
        "        A = y\n",
        "        b = np.zeros(n)\n",
        "        mu = self._qp(H, e, A, b, C, l=1e-8, verbose=False)\n",
        "        idx_support = np.where(np.abs(mu) > 1e-5)[0]\n",
        "        mu_support = mu[idx_support]\n",
        "        return mu_support, idx_support\n",
        "    \n",
        "    def _get_w(self, mu_support, idx_support, X, y):\n",
        "        return np.sum((mu_support * y[idx_support])[: , None] * X[idx_support], axis=0)\n",
        "    \n",
        "    def _get_kernel(self, kernel, gamma, sigma, degree):\n",
        "        return {\n",
        "            'linear': Kernel.linear(),\n",
        "            'polynomial': Kernel.polynomial(degree),\n",
        "            'chi2': Kernel.chi2(gamma),\n",
        "            'RBF': Kernel.RBF(sigma)\n",
        "        }[kernel]\n",
        "\n",
        "    def _compute_b(self, K, y, mu_support, idx_support):\n",
        "        num_support_vector = idx_support.size\n",
        "        y_support = y[idx_support]\n",
        "        K_support = K[idx_support][:, idx_support]\n",
        "        b = [y_support[j] - sum([mu_support[i]*y_support[i]*K_support[i][j] for i in range(num_support_vector)]) for j in range(num_support_vector)]\n",
        "        return np.mean(b)"
      ]
    },
    {
      "cell_type": "code",
      "execution_count": 8,
      "metadata": {
        "id": "cmILkvMcnCio"
      },
      "outputs": [],
      "source": [
        "X_df = pd.read_csv('./Xtr.csv', header=None)\n",
        "y_df = pd.read_csv('./Ytr.csv')\n",
        "X_df = X_df.loc[:5000,:3071]\n",
        "y_df=y_df.loc[:5000]\n",
        "\n",
        "X_test = pd.read_csv('./Xte.csv', header=None)\n",
        "X_test = X_test.loc[:,:3071]\n",
        "\n",
        "X = X_df.values\n",
        "y = y_df.Prediction\n",
        "\n",
        "X_test = X_test.values"
      ]
    },
    {
      "cell_type": "code",
      "execution_count": 9,
      "metadata": {
        "id": "wbVj6TvbnMTV"
      },
      "outputs": [],
      "source": [
        "red, green, blue = np.hsplit(X, 3)\n",
        "data = np.array([np.dstack((red[i], blue[i], green[i])).reshape(32, 32, 3) for i in range(len(X))])\n",
        "\n",
        "red, green, blue = np.hsplit(X_test, 3)\n",
        "data_test = np.array([np.dstack((red[i], blue[i], green[i])).reshape(32, 32, 3) for i in range(len(X_test))])"
      ]
    },
    {
      "cell_type": "code",
      "execution_count": 10,
      "metadata": {
        "id": "tQdFFmzZnVjz"
      },
      "outputs": [],
      "source": [
        "params = { 'chi2_gamma': .6,\n",
        "           'sigma': 1.,\n",
        "           'degree': 2.,\n",
        "           'C': 10.,\n",
        "           'sift_thres': .3,\n",
        "           'gaussian_thres': .7,\n",
        "           'gaussian_sigma': .4,\n",
        "           'num_angles': 12,\n",
        "           'num_bins': 5,\n",
        "           'alpha': 9.0 }"
      ]
    },
    {
      "cell_type": "code",
      "execution_count": 11,
      "metadata": {
        "id": "zQeAuhqdnaLG"
      },
      "outputs": [],
      "source": [
        "extractor = SIFT(sift_thres=params['sift_thres'], \n",
        "                 gaussian_sigma=params['gaussian_sigma'], \n",
        "                 gaussian_thres=params['gaussian_thres'],\n",
        "                 num_angles=params['num_angles'],\n",
        "                 num_bins=params['num_bins'],\n",
        "                 alpha=params['alpha'])"
      ]
    },
    {
      "cell_type": "code",
      "execution_count": 12,
      "metadata": {
        "colab": {
          "base_uri": "https://localhost:8080/"
        },
        "id": "jQkWD7denlog",
        "outputId": "7ef5ed83-01d1-41b3-b2b0-770e11da0d85"
      },
      "outputs": [
        {
          "output_type": "stream",
          "name": "stdout",
          "text": [
            "SIFT - 1.98% ----- Temps restant estimé: 0 min 5 sec -----"
          ]
        },
        {
          "output_type": "stream",
          "name": "stderr",
          "text": [
            "/usr/local/lib/python3.7/dist-packages/ipykernel_launcher.py:86: DeprecationWarning: `np.int` is a deprecated alias for the builtin `int`. To silence this warning, use `int` by itself. Doing this will not modify any behavior and is safe. When replacing `np.int`, you may wish to use e.g. `np.int64` or `np.int32` to specify the precision. If you wish to review your current use, check the release note link for additional information.\n",
            "Deprecated in NumPy 1.20; for more details and guidance: https://numpy.org/devdocs/release/1.20.0-notes.html#deprecations\n"
          ]
        },
        {
          "output_type": "stream",
          "name": "stdout",
          "text": [
            "SIFT - 100.00% ----- Temps restant estimé: 0 min 0 sec -----"
          ]
        }
      ],
      "source": [
        "X_train = extractor.get_features(data)"
      ]
    },
    {
      "cell_type": "code",
      "execution_count": 13,
      "metadata": {
        "id": "MbYTLeHUpcLH"
      },
      "outputs": [],
      "source": [
        "clf1 = SVC(kernel='RBF', C=params['C'], sigma=params['sigma'])\n",
        "clf2 = SVC(kernel='RBF', C=params['C'], sigma=params['sigma'])"
      ]
    },
    {
      "cell_type": "code",
      "execution_count": 14,
      "metadata": {
        "colab": {
          "base_uri": "https://localhost:8080/"
        },
        "id": "5N0sX2uopfx1",
        "outputId": "6307acb2-5cc1-4240-ca88-9624e42446cb"
      },
      "outputs": [
        {
          "output_type": "stream",
          "name": "stdout",
          "text": [
            "SVC Fitting - 100.00% ----- Temps restant estimé: 0 min 0 sec -----"
          ]
        }
      ],
      "source": [
        "clf1.fit(X_train[:,:], y[:])"
      ]
    },
    {
      "cell_type": "code",
      "execution_count": 15,
      "metadata": {
        "colab": {
          "base_uri": "https://localhost:8080/"
        },
        "id": "s9ePVeBqVJsP",
        "outputId": "b8c6dbec-6b47-42b6-c268-86675d205fcb"
      },
      "outputs": [
        {
          "output_type": "stream",
          "name": "stdout",
          "text": [
            "SVC Fitting - 100.00% ----- Temps restant estimé: 0 min 0 sec -----"
          ]
        }
      ],
      "source": [
        "layer2 = clf1.next_layer(X_train[:5000,:])\n",
        "clf2.fit(layer2, y[:5000])"
      ]
    },
    {
      "cell_type": "code",
      "execution_count": 17,
      "metadata": {
        "colab": {
          "base_uri": "https://localhost:8080/"
        },
        "id": "_00zXBjdhvB2",
        "outputId": "e77d9cbf-ca19-4f0c-bc1c-b4a8c03d4204"
      },
      "outputs": [
        {
          "output_type": "stream",
          "name": "stdout",
          "text": [
            "SIFT - 3.00% ----- Temps restant estimé: 0 min 6 sec -----"
          ]
        },
        {
          "output_type": "stream",
          "name": "stderr",
          "text": [
            "/usr/local/lib/python3.7/dist-packages/ipykernel_launcher.py:86: DeprecationWarning: `np.int` is a deprecated alias for the builtin `int`. To silence this warning, use `int` by itself. Doing this will not modify any behavior and is safe. When replacing `np.int`, you may wish to use e.g. `np.int64` or `np.int32` to specify the precision. If you wish to review your current use, check the release note link for additional information.\n",
            "Deprecated in NumPy 1.20; for more details and guidance: https://numpy.org/devdocs/release/1.20.0-notes.html#deprecations\n"
          ]
        },
        {
          "output_type": "stream",
          "name": "stdout",
          "text": [
            "SIFT - 100.00% ----- Temps restant estimé: 0 min 0 sec -----"
          ]
        }
      ],
      "source": [
        "X_test = extractor.get_features(data_test)"
      ]
    },
    {
      "cell_type": "code",
      "execution_count": null,
      "metadata": {
        "id": "BATn90espi8U"
      },
      "outputs": [],
      "source": [
        "X_test_layer2 = clf1.next_layer(X_test)\n",
        "pred = clf2.predict(X_test_layer2)\n",
        "predictions = pd.DataFrame(pred, columns=['Prediction'])\n",
        "predictions['id'] = np.arange(1, len(predictions)+1)\n",
        "predictions.to_csv('submission_RBF_2layers.csv', sep=',', index=False, encoding='utf-8', columns=['id', 'Prediction'])"
      ]
    },
    {
      "cell_type": "code",
      "execution_count": null,
      "metadata": {
        "id": "mQumWhpkuvH8"
      },
      "outputs": [],
      "source": [
        "clf3 = SVC(kernel='polynomial', C=params['C'], gamma=params['chi2_gamma'], sigma=params['sigma'])"
      ]
    },
    {
      "cell_type": "code",
      "execution_count": null,
      "metadata": {
        "colab": {
          "base_uri": "https://localhost:8080/"
        },
        "id": "poB6PpjivjYl",
        "outputId": "0fc13a60-70ee-481f-f29f-7bdaa4ee24f0"
      },
      "outputs": [
        {
          "output_type": "stream",
          "name": "stdout",
          "text": [
            "SVC Fitting - 100.00% ----- Temps restant estimé: 0 min 0 sec -----"
          ]
        }
      ],
      "source": [
        "clf3.fit(layer2, y[:5000])"
      ]
    },
    {
      "cell_type": "code",
      "source": [
        "pred = clf3.predict(X_test_layer2)\n",
        "predictions = pd.DataFrame(pred, columns=['Prediction'])\n",
        "predictions['id'] = np.arange(1, len(predictions)+1)\n",
        "predictions.to_csv('submission_RBF_polynomial_2layers.csv', sep=',', index=False, encoding='utf-8', columns=['id', 'Prediction'])"
      ],
      "metadata": {
        "id": "MxGryTeOxaMp"
      },
      "execution_count": null,
      "outputs": []
    }
  ],
  "metadata": {
    "accelerator": "GPU",
    "colab": {
      "collapsed_sections": [],
      "name": "Copie de Data Challenge Kernel.ipynb",
      "provenance": []
    },
    "kernelspec": {
      "display_name": "Python 3",
      "name": "python3"
    },
    "language_info": {
      "name": "python"
    }
  },
  "nbformat": 4,
  "nbformat_minor": 0
}